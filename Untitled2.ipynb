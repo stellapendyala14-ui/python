{
  "nbformat": 4,
  "nbformat_minor": 0,
  "metadata": {
    "colab": {
      "provenance": [],
      "authorship_tag": "ABX9TyMHSNac9nve/kf57nMBvzVr",
      "include_colab_link": true
    },
    "kernelspec": {
      "name": "python3",
      "display_name": "Python 3"
    },
    "language_info": {
      "name": "python"
    }
  },
  "cells": [
    {
      "cell_type": "markdown",
      "metadata": {
        "id": "view-in-github",
        "colab_type": "text"
      },
      "source": [
        "<a href=\"https://colab.research.google.com/github/stellapendyala14-ui/python/blob/main/Untitled2.ipynb\" target=\"_parent\"><img src=\"https://colab.research.google.com/assets/colab-badge.svg\" alt=\"Open In Colab\"/></a>"
      ]
    },
    {
      "cell_type": "code",
      "execution_count": 2,
      "metadata": {
        "colab": {
          "base_uri": "https://localhost:8080/"
        },
        "id": "YdGjG9huQotI",
        "outputId": "9bfb7061-7e2d-4d78-f115-473e0ce48689"
      },
      "outputs": [
        {
          "output_type": "stream",
          "name": "stdout",
          "text": [
            "Enter weight in kilograms: 8\n",
            "8.0 kilograms is equal to 25.60 pounds.\n"
          ]
        }
      ],
      "source": [
        "# Conversion factor\n",
        "KG_TO_POUNDS = 3.2\n",
        "# Ask the user for weight in kilograms\n",
        "kg = float(input(\"Enter weight in kilograms: \"))\n",
        "# Convert to pounds\n",
        "pounds = kg * KG_TO_POUNDS\n",
        "print(f\"{kg} kilograms is equal to {pounds:.2f} pounds.\")"
      ]
    },
    {
      "cell_type": "code",
      "source": [
        "for n in range(8,90,3):\n",
        "    print(n,end=\",\")"
      ],
      "metadata": {
        "colab": {
          "base_uri": "https://localhost:8080/"
        },
        "id": "Z8ollVlUUhuw",
        "outputId": "ae1bdd24-0c98-4e48-8a70-e583f73dc919"
      },
      "execution_count": 3,
      "outputs": [
        {
          "output_type": "stream",
          "name": "stdout",
          "text": [
            "8,11,14,17,20,23,26,29,32,35,38,41,44,47,50,53,56,59,62,65,68,71,74,77,80,83,86,89,"
          ]
        }
      ]
    },
    {
      "cell_type": "code",
      "source": [
        "text=\"zari\"\n",
        "char_list=list(text)\n",
        "print(char_list)"
      ],
      "metadata": {
        "colab": {
          "base_uri": "https://localhost:8080/"
        },
        "id": "xNjoDuV6UlKU",
        "outputId": "e29b01e2-65bf-4013-cb48-87e557df4089"
      },
      "execution_count": 4,
      "outputs": [
        {
          "output_type": "stream",
          "name": "stdout",
          "text": [
            "['z', 'a', 'r', 'i']\n"
          ]
        }
      ]
    },
    {
      "cell_type": "markdown",
      "source": [],
      "metadata": {
        "id": "L9QlQWqVUsFn"
      }
    },
    {
      "cell_type": "code",
      "source": [
        "numbers = [12, 45, 67, 23, 89, 34]\n",
        "largest = max(numbers)\n",
        "print(\"The largest number is:\", largest)"
      ],
      "metadata": {
        "colab": {
          "base_uri": "https://localhost:8080/"
        },
        "id": "DfozGCcAUpj1",
        "outputId": "eb9de07f-7984-4328-c25a-349426b310f5"
      },
      "execution_count": 5,
      "outputs": [
        {
          "output_type": "stream",
          "name": "stdout",
          "text": [
            "The largest number is: 89\n"
          ]
        }
      ]
    },
    {
      "cell_type": "code",
      "source": [
        "def fibonacci(n):\n",
        "    if n <= 0:\n",
        "        return \"Invalid input. n must be a positive integer.\"\n",
        "    elif n == 1:\n",
        "        return 0\n",
        "    elif n == 2:\n",
        "        return 1\n",
        "    else:\n",
        "        a, b = 0, 1\n",
        "        for _ in range(2, n):\n",
        "            a, b = b, a + b\n",
        "        return b\n",
        "n = int(input(\"Enter the position (n) of the Fibonacci number: \"))\n",
        "result = fibonacci(n)\n",
        "print(f\"The {n}th Fibonacci number is:\", result)"
      ],
      "metadata": {
        "colab": {
          "base_uri": "https://localhost:8080/"
        },
        "id": "FuCJX4mCUuXL",
        "outputId": "ff36ca27-c3c3-4a4e-d815-d45e28bdb02c"
      },
      "execution_count": 6,
      "outputs": [
        {
          "output_type": "stream",
          "name": "stdout",
          "text": [
            "Enter the position (n) of the Fibonacci number: 8\n",
            "The 8th Fibonacci number is: 13\n"
          ]
        }
      ]
    }
  ]
}